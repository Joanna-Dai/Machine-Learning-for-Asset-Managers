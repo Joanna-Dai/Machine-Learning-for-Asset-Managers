{
 "cells": [
  {
   "cell_type": "markdown",
   "id": "719d8ffc",
   "metadata": {},
   "source": [
    "[Chapter 5] Financial Labels"
   ]
  },
  {
   "cell_type": "code",
   "execution_count": 8,
   "id": "7b088c2c",
   "metadata": {},
   "outputs": [],
   "source": [
    "import numpy as np\n",
    "import pandas as pd\n",
    "\n",
    "import statsmodels.api as sml"
   ]
  },
  {
   "cell_type": "markdown",
   "id": "dd0e693f",
   "metadata": {},
   "source": [
    "t-Value of a Linear Trend"
   ]
  },
  {
   "cell_type": "code",
   "execution_count": 7,
   "id": "d18ce2af",
   "metadata": {},
   "outputs": [],
   "source": [
    "def tValLinR(close):\n",
    "    \"\"\"\n",
    "    tValue from a linear trend\n",
    "    x_{t+l} = b0 + b1*l + e_{t+l}\n",
    "    tstat_b1 = b1 / sigma(b1)\n",
    "    l = 0, ..., L (L sets the look-forward period)  \n",
    "    \"\"\"\n",
    "    # create an array filled with ones, having the same number of rows as close and 2 columns. \n",
    "    # This array will represent the independent variables for the linear regression.(the first column of ones respresent intercept) \n",
    "    x = np.ones((close.shape[0], 2))\n",
    "    \n",
    "    # generate a sequence of numbers representing the time index or independent variable for the linear trend. \n",
    "    # For each data point in close, there's a corresponding sequential number representing its position in the series.\n",
    "    x[:, 1] = np.arange(close.shape[0])\n",
    "\n",
    "    # estimate the relationship between a dependent variable (close) and independent variables (x) \n",
    "    # by minimizing the sum of the squared differences between the observed and predicted values\n",
    "    ols = sml.OLS(close, x).fit()\n",
    "\n",
    "    # return the t-value corresponding to the slope coefficient\n",
    "    return ols.tvalues[1]"
   ]
  },
  {
   "cell_type": "markdown",
   "id": "e55b4ad7",
   "metadata": {},
   "source": [
    "trend scanning method"
   ]
  },
  {
   "cell_type": "code",
   "execution_count": 10,
   "id": "6124aaa8",
   "metadata": {},
   "outputs": [],
   "source": [
    "def getBinsFromTrend(molecule, close, span):\n",
    "    \"\"\"\n",
    "    pick the time horizon that yields the maximum absolute t-value (strongest evidence of a trend).\n",
    "    label the original time point by the sign (+/-) of that trend.\n",
    "    \n",
    "    arguments:\n",
    "    - molecule: the index of observations we wish to label\n",
    "    - close: time series of {x_t}\n",
    "    - span: the set of values of L that the algo will evaluate in search for the max absolute t-value\n",
    "    \n",
    "    ouputs:\n",
    "    - t1: end time for the identified trend\n",
    "    - tVal: t-value associated with the estimated trend coefficient\n",
    "    - bin: sign of the trend\n",
    "    \"\"\"\n",
    "    out = pd.DataFrame(index=molecule, columns=['t1', 'tVal','bin'])\n",
    "\n",
    "    #  creates a sequence of integers corresponding to different forecast horizons (lengths of windows) to try\n",
    "    #  e.g. if span = (2, 10), hrzns will be 2, 3, 4, ..., 9\n",
    "    hrzns = range(*span)\n",
    "    \n",
    "    for dt0 in molecule:\n",
    "        df0 = pd.Series()\n",
    "        \n",
    "        # find the integer position (location) of dt0 in the close time series index\n",
    "        iloc0 = close.index.get_loc(dt0)\n",
    "\n",
    "        # if pos(dt0) + max horizon window goes beyond the end of the available time series\n",
    "        # skip this dt0 because you can't get enough future data.\n",
    "        if iloc0+max(hrzns) > close.shape[0]: continue\n",
    "\n",
    "        for hrzn in hrzns: # loop over all forecast horizons (defined in span)\n",
    "            dt1 = close.index[iloc0+hrzn-1]\n",
    "            df1 = close.loc[dt0:dt1]\n",
    "            df0.loc[dt1] = tValLinR(df1.values)\n",
    "        dt1 = df0.replace([-np.inf, np.inf, np.nan], 0).abs().idxmax()\n",
    "        out.loc[dt0, ['t1','tVal','bin']] = df0.index[-1], df0[dt1], np.sign(df0[dt1]) # prevent leakage (use info only up to t1)\n",
    "    out['t1'] = pd.to_datetime(out['t1'])\n",
    "    out['bin'] = pd.to_numeric(out['bin'], downcast='signed')\n",
    "    return out.dropna(subset=['bin'])"
   ]
  }
 ],
 "metadata": {
  "kernelspec": {
   "display_name": "Python 3",
   "language": "python",
   "name": "python3"
  },
  "language_info": {
   "codemirror_mode": {
    "name": "ipython",
    "version": 3
   },
   "file_extension": ".py",
   "mimetype": "text/x-python",
   "name": "python",
   "nbconvert_exporter": "python",
   "pygments_lexer": "ipython3",
   "version": "3.9.5"
  }
 },
 "nbformat": 4,
 "nbformat_minor": 5
}
