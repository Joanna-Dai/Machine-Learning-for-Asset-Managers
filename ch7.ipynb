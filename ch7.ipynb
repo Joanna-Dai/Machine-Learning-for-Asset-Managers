{
 "cells": [
  {
   "cell_type": "markdown",
   "id": "2d2894f3",
   "metadata": {},
   "source": [
    "[Chapter 7] Portfolio Construction"
   ]
  },
  {
   "cell_type": "code",
   "execution_count": null,
   "id": "2d59babf",
   "metadata": {},
   "outputs": [],
   "source": []
  }
 ],
 "metadata": {
  "language_info": {
   "name": "python"
  }
 },
 "nbformat": 4,
 "nbformat_minor": 5
}
