{
 "cells": [
  {
   "cell_type": "markdown",
   "id": "719d8ffc",
   "metadata": {},
   "source": [
    "[Chapter 5] Financial Labels"
   ]
  },
  {
   "cell_type": "code",
   "execution_count": null,
   "id": "5bc36b88",
   "metadata": {},
   "outputs": [],
   "source": []
  }
 ],
 "metadata": {
  "language_info": {
   "name": "python"
  }
 },
 "nbformat": 4,
 "nbformat_minor": 5
}
