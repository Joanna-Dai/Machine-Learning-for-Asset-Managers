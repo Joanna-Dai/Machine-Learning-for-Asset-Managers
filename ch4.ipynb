{
 "cells": [
  {
   "cell_type": "markdown",
   "id": "dbead2e7",
   "metadata": {},
   "source": [
    "[Chapter 4] Optimal Clustering"
   ]
  },
  {
   "cell_type": "code",
   "execution_count": null,
   "id": "883a344a",
   "metadata": {},
   "outputs": [],
   "source": [
    "# a clustering problem consists of a set of objects and a set of features associated with those objects (unsupervised learning)\n",
    "# the goal is to seperate the objects into groups (called clusters) using the features\n",
    "#           where intragroup similarities are maximized and intergroup similarities are minimized\n",
    "\n",
    "# 2 main classes of clustering: partitional (one-level/un-nested) and hierarchical(nested sequence of partitions)\n",
    "# types of clustering algo: connectivity (e.g. hierarchical clustering), centroids (e.g. k-means), distribution,\n",
    "#                      density (e.g. DBSCAN, OPTICS), subspace (on 2-dimensions both features and observations, e.g. bi/co-clustering) \n",
    "\n",
    "import numpy as np\n",
    "import pandas as pd\n",
    "\n",
    "from sklearn.cluster import KMeans\n",
    "from sklearn.metrics import silhouette_samples\n",
    "\n",
    "import seaborn as sns"
   ]
  },
  {
   "cell_type": "markdown",
   "id": "f6ec2116",
   "metadata": {},
   "source": [
    "base clustering"
   ]
  },
  {
   "cell_type": "code",
   "execution_count": 7,
   "id": "1aca6583",
   "metadata": {},
   "outputs": [],
   "source": [
    "def clusterKMeansBase(corr0, maxNumClusters=10, n_init=10):\n",
    "    \"\"\"\n",
    "    use k-means algorithm on observation matrix\n",
    "    \"\"\"\n",
    "    # derive observation matrix x as distance matrix\n",
    "    x = ((1-corr0.fillna(0))/2.)**.5    # corr=1, x=0; corr=-1, x=1\n",
    "    silh = pd.Series()\n",
    "    \n",
    "    for init in range(n_init):  # k-means uses multiple random initialization to avoid local optimas\n",
    "        for i in range(2, maxNumClusters+1): # loop different number of maxNumClusters\n",
    "            \n",
    "            # k-means clustering\n",
    "            kmeans_ = KMeans(n_clusters=i, n_jobs=1, n_init=1)  # only initialization once for inner loop\n",
    "            kmeans_ = kmeans_.fit(x)\n",
    "\n",
    "            #  calculate silhouette coef in measuring comparing intracluster distance and intercluster distance\n",
    "            #       Si = (b_i-a_i)/max{a_i, b_i} \n",
    "            #       - a_i is the avg distance between i and all other elements in the same cluster\n",
    "            #       - b_i is the avg distance between i and all the elements in the nearest cluster which i is not a member \n",
    "            #       - Si = 1 means i was clustered well and -1 means i was clustered poorly\n",
    "            silh_ = silhouette_samples(x, kmeans_.labels_)\n",
    "            \n",
    "            # clustering quality q = mean(silh)/std(silh)\n",
    "            # comparing current q_ vs historical optimal q\n",
    "            stat = (silh_.mean()/silh_.std(), silh.mean()/silh.std())\n",
    "            if np.isnan(stat[1]) or stat[0]>stat[1]:    \n",
    "                silh, kmeans=silh_, kmeans_     # select clustering with the highest q\n",
    "\n",
    "    # reorder correlation matrix based on kmeans clustering\n",
    "    newIdx = np.argsort(kmeans.labels_)\n",
    "    corr1 = corr0.iloc[newIdx] # reorder rows\n",
    "    corr1 = corr1.iloc[:, newIdx] # reorder columns\n",
    "\n",
    "    # extract/output clustering info\n",
    "    clstrs = {i:corr0.columns[np.where(kmeans.labels_==i)[0]].tolist() \\\n",
    "              for i in np.unique(kmeans.labels_)}   # cluster members\n",
    "    \n",
    "    silh = pd.Series(silh, index=x.index)\n",
    "    \n",
    "    return corr1, clstrs, silh"
   ]
  },
  {
   "cell_type": "markdown",
   "id": "4b33227a",
   "metadata": {},
   "source": [
    "higher-level clustering"
   ]
  },
  {
   "cell_type": "code",
   "execution_count": 9,
   "id": "10e1371d",
   "metadata": {},
   "outputs": [],
   "source": [
    "def makeNewOutputs(corr0, clstrs, clstrs2):\n",
    "    \"\"\"\n",
    "    combine two sets of clusters into one unified clustering result.\n",
    "    update the correlation matrix and silhouette scores accordingly.\n",
    "    \"\"\"\n",
    "    # take two dictionaries of clusters and merge these groups into a single new collection of clusters\n",
    "    clstrsNew = {}\n",
    "    for i in clstrs.keys():\n",
    "        clstrsNew[len(clstrsNew.keys())] = list(clstrs[i])\n",
    "    for i in clstrs2.keys():\n",
    "        clstrsNew[len(clstrsNew.keys())] = list(clstrs2[i])\n",
    "    \n",
    "    # get new idx of clstrsNew (outer loop i to loop each keys in cltrsNew, inner loop to loop each item for each key) \n",
    "    newIdx = [j for i in clstrsNew for j in clstrsNew[i]]\n",
    "    # extract the relevant subset of the original correlation matrix that corresponds to all items in the new combined clusters\n",
    "    corrNew = corr0.loc[newIdx, newIdx]\n",
    "    \n",
    "    # convert the correlation matrix into distance matrix \n",
    "    x = ((1-corr0.fillna(0))/2.)**.5\n",
    "    # assign cluster labels to each item in this new combined set\n",
    "    kmeans_labels = np.zeros(len(x.columns))\n",
    "    for i in clstrsNew.keys():\n",
    "        idxs = [x.index.get_loc(k) for k in clstrsNew[i]]\n",
    "        kmeans_labels[idxs] = i\n",
    "    # calculate silhouette scores, which measure how well each item fits within its cluster.\n",
    "    silhNew = pd.Series(silhouette_samples(x, kmeans_labels), index=x.index)\n",
    "    # returns the updated correlation matrix, combined clusters, and silhouette scores\n",
    "    return corrNew, clstrsNew, silhNew\n",
    "\n",
    "#---------------------------------------------------------------------------------\n",
    "\n",
    "def clusterKMeansTop(corr0, maxNumClusters=None, n_init=10):\n",
    "    \"\"\"\n",
    "    perform K-means clustering on the correlation matrix.\n",
    "    identify weak clusters based on silhouette scores.\n",
    "    recursively refine those weak clusters by re-clustering them.\n",
    "    decide whether the refinement improves clustering quality or not.\n",
    "    \"\"\"\n",
    "    # intial clustering\n",
    "    # run base K-means clustering on full dataset and get initial clusters and silh scores\n",
    "    if maxNumClusters==None: maxNumClusters=corr0.shape[1]-1\n",
    "    corr1, clstrs, silh=clusterKMeansBase(corr0, maxNumClusters=\\\n",
    "        min(maxNumClusters, corr0.shape[1]-1), n_init=n_init)\n",
    "    \n",
    "    # evaluate clusters\n",
    "    # calculate qualtiy(t-stat like) score for each cluster\n",
    "    clusterTstats = {i:np.mean(silh(clstrs[i])) / \\\n",
    "        np.std(silh[clstrs[i]]) for i in clstrs.keys()}\n",
    "    # compute the average quality across all clusters\n",
    "    tStatMean = sum(clusterTstats.values())/len(clusterTstats)\n",
    "    \n",
    "    # identify weak clusters\n",
    "    # find the set of weak clusters with quality below average\n",
    "    redoClusters = [i for i in clusterTstats.keys() if \\\n",
    "        clusterTstats[i]<tStatMean]\n",
    "    # refine the weak clusters (redoClusters)\n",
    "    if len(redoClusters)<=1:\n",
    "        return corr1, clstrs, silh\n",
    "    else:\n",
    "        # if multiple weak clusters\n",
    "        # extract items in those weak clusters\n",
    "        keysRedo = [j for i in redoClusters for j in clstrs[i]]\n",
    "        corrTmp = corr0.loc[keysRedo, keysRedo]\n",
    "        tStatMean = np.mean([clusterTstats[i] for i in redoClusters])\n",
    "        # run the clustering function recursively on just those items, aiming to split or reorganize them into better clusters.\n",
    "        corr2, clstrs2, silh2 = clusterKMeansTop(corrTmp, \\\n",
    "            maxNumClusters=min(maxNumClusters, corrTmp.shape[1]-1), n_init=n_init)\n",
    "        # make new outputs\n",
    "        # merge the strong clusters (clstrs no in redoClusters) with the refined weak clusters (clstrs2)\n",
    "        corrNew, clstrsNew, silhNew = makeNewOutputs(corr0, \\\n",
    "            {i: clstrs[i] for i in clstrs.keys() if i not in redoClusters}, clstrs2)\n",
    "        # recalculate the evaluation metrics on this updated combined clustering\n",
    "        newTstatsMean = np.mean([np.mean(silhNew[clstrsNew[i]])/ \\\n",
    "            np.std(silhNew[clstrsNew[i]]) for i in clstrsNew.keys()])\n",
    "        # return the best clustering (either original or refined) \n",
    "        if newTstatsMean <= tStatMean:\n",
    "            return corr1, clstrs, silh   # otherwise, keep the original clustering\n",
    "        else:\n",
    "            return corrNew, clstrsNew, silhNew # if the new combined clustering is better, return the new ones"
   ]
  },
  {
   "cell_type": "markdown",
   "id": "a033ff0a",
   "metadata": {},
   "source": [
    "experimental results"
   ]
  },
  {
   "cell_type": "code",
   "execution_count": 13,
   "id": "c51902e2",
   "metadata": {},
   "outputs": [
    {
     "name": "stdout",
     "output_type": "stream",
     "text": [
      "100\n",
      "0.6779997866536374\n",
      "0.00495905524173486 0.0013345847388943357\n",
      "0.003455970753593775 0.0015111792343800799\n"
     ]
    },
    {
     "data": {
      "image/png": "[encoded data removed]",
      "text/plain": [
       "<Figure size 640x480 with 1 Axes>"
      ]
     },
     "metadata": {},
     "output_type": "display_data"
    }
   ],
   "source": [
    "# design monte carlo experiment to verify the accuracy of Optimal-Number-of-Clusters (ONC) algo \n",
    "# 1. create generate random block correlation matrix (N, M, K) (of size NxN, made up of K blocks, each of size >=M)\n",
    "#    where intrablock corr is high and across-block corr is low\n",
    "# 2. shuffle that corr matrix\n",
    "# 3. apply ONC and verify that ONC algo recovers the block we injected\n",
    "\n",
    "from scipy.linalg import block_diag\n",
    "from sklearn.utils import check_random_state\n",
    "\n",
    "import import_ipynb\n",
    "from ch2 import cov2corr"
   ]
  },
  {
   "cell_type": "markdown",
   "id": "a92e2396",
   "metadata": {},
   "source": [
    "generation of random block-structured correlation matrix"
   ]
  },
  {
   "cell_type": "code",
   "execution_count": 15,
   "id": "2ca2caed",
   "metadata": {},
   "outputs": [],
   "source": [
    "# random block correlation matrix\n",
    "def getCovSub(nObs, nCols, sigma, random_state=None):\n",
    "    \"\"\"\n",
    "    generate a random covariance (or correlation) matrix for a single block of variables\n",
    "    - nObs: number of observations (samples) to simulate.\n",
    "    - nCols: number of variables (columns) in this block.\n",
    "    - sigma: noise level controlling variability\n",
    "    - random_state: seed or random generator for reproducibility.\n",
    "    \"\"\"\n",
    "    # create a random number generator (rng) for consistent random results\n",
    "    rng = check_random_state(random_state)\n",
    "\n",
    "    # if the block has only 1 variable, return 1x1 cov matrix\n",
    "    if nCols==1:\n",
    "        return np.ones((1,1))\n",
    "    \n",
    "    # generate a single column vector of nObs samples from a standard normal distribution\n",
    "    ar0 = rng.normal(size=(nObs, 1))\n",
    "    \n",
    "    # repeat this single column horizontally nCols times, creating a matrix where all columns are initially identical\n",
    "    ar0 = np.repeat(ar0, nCols, axis=1)\n",
    "\n",
    "    # add Gaussian noise with standard deviation sigma independently to each element, making columns similar but not identical\n",
    "    # the columns will be highly correlated for smaller sigma, less correlated for larger signma\n",
    "    ar0 += rng.normal(scale=sigma, size=ar0.shape)\n",
    "    # compute the covariance matrix of the simulated data (ar0), treating columns as variables (rowvar=False)\n",
    "    ar0 = np.cov(ar0, rowvar=False)\n",
    "\n",
    "    # return covariace matrix\n",
    "    return ar0\n",
    "\n",
    "#----------------------------------------------------------------\n",
    "\n",
    "def getRndBlockCov(nCols, nBlocks, minBlockSize=1, sigma=1., random_state=None):\n",
    "    \"\"\"\n",
    "    generate a block diagonal covariance matrix composed of nBlocks blocks, each block generated by getCovSub\n",
    "    - nCols: Total number of variables across all blocks.\n",
    "    - nBlocks: Number of blocks to create.\n",
    "    - minBlockSize: Minimum size of each block.\n",
    "    - sigma: Noise parameter passed to getCovSub.\n",
    "    - random_state: Random seed or generator.\n",
    "    \"\"\"\n",
    "    # random number generator\n",
    "    rng = check_random_state(random_state)\n",
    "    \n",
    "    # randomly choose nBlocks-1 split points within the range of variables to divide the total variables into blocks\n",
    "    # set B = first, randomly choose K-1 distinct items from set A = (1, ..., N'-1) \n",
    "    # N' = N - K(M-1) >=K (given N>=KM) \n",
    "    parts = rng.choice(range(1, nCols-(minBlockSize-1)*nBlocks), \\\n",
    "        nBlocks-1, replace=False)\n",
    "    # ascending order\n",
    "    parts.sort()\n",
    "    # append N' to B (parts of size K) as the last split point\n",
    "    parts = np.append(parts, nCols-(minBlockSize-1)*nBlocks)\n",
    "\n",
    "    # calculate the size of each block\n",
    "    # parts = [i1, i2] => parts = [i1, i2-i1] given C1=0,...,i1-1, C2=i1,...,i2-1\n",
    "    # -1 + minBlockSize to adjust the size and ensure it will be no less than minimum block size\n",
    "    parts = np.append(parts[0], np.diff(parts)) - 1 + minBlockSize\n",
    "\n",
    "    cov = None # initialize cov\n",
    "    # for each block size (nCols_) in parts:\n",
    "    # generate a covariance matrix for each block using getCovSub.\n",
    "    # stack it along the diagonal of a larger block diagonal matrix\n",
    "    for nCols_ in parts:\n",
    "        # calculate covariance matrix of each block using getCovSub\n",
    "        #   nObs is no less than nCols_*(nCols_+1)/2. given degree of freedom of cov (nCols__*nCols_/2 + nCols_) and statistical robustness\n",
    "        cov_ = getCovSub(int(max(nCols_*(nCols_+1)/2., 100)), \n",
    "            nCols_, sigma, random_state=rng)\n",
    "        if cov is None: # If this is the first block, initialize cov with it.\n",
    "            cov = cov_.copy()         \n",
    "        else:   # Otherwise, append the new block covariance matrix as a block diagonal to the existing cov\n",
    "            cov = block_diag(cov, cov_) \n",
    "    return cov\n",
    "\n",
    "#----------------------------------------------------------------\n",
    "\n",
    "def randomBlockCorr(nCols, nBlocks, random_state=None, minBlockSize=1):\n",
    "    \"\"\"\n",
    "    generate a random block-structured correlation matrix\n",
    "    \"\"\"\n",
    "    rng = check_random_state(random_state)\n",
    "\n",
    "    # generate a block covariance matrix with moderate noise (sigma=0.5).\n",
    "    cov0 = getRndBlockCov(nCols, nBlocks, minBlockSize, sigma=0.5, random_state=rng)\n",
    "\n",
    "    # generate a single block covariance matrix for all variables with higher noise (sigma=1), acting as noise added to the entire matrix.\n",
    "    cov1 = getRndBlockCov(nCols, 1, minBlockSize, sigma=1., random_state=rng)\n",
    "\n",
    "    # add the noise matrix to the block covariance matrix to introduce variability across blocks\n",
    "    cov0 += cov1\n",
    "\n",
    "    # convert to correlation matrix\n",
    "    corr0 = cov2corr(cov0)\n",
    "    corr0 = pd.DataFrame(corr0)\n",
    "\n",
    "    return corr0"
   ]
  },
  {
   "cell_type": "code",
   "execution_count": 22,
   "id": "d4f96a93",
   "metadata": {},
   "outputs": [
    {
     "data": {
      "text/plain": [
       "<Axes: >"
      ]
     },
     "execution_count": 22,
     "metadata": {},
     "output_type": "execute_result"
    },
    {
     "data": {
      "image/png": "[encoded data removed]",
      "text/plain": [
       "<Figure size 640x480 with 2 Axes>"
      ]
     },
     "metadata": {},
     "output_type": "display_data"
    }
   ],
   "source": [
    "corr_matrix = randomBlockCorr(30, 6, 123, 2)\n",
    "sns.heatmap(corr_matrix)\n",
    "# light color indicate a higher correalation \n",
    "# dark color indicate a lower correlation"
   ]
  }
 ],
 "metadata": {
  "kernelspec": {
   "display_name": "Python 3",
   "language": "python",
   "name": "python3"
  },
  "language_info": {
   "codemirror_mode": {
    "name": "ipython",
    "version": 3
   },
   "file_extension": ".py",
   "mimetype": "text/x-python",
   "name": "python",
   "nbconvert_exporter": "python",
   "pygments_lexer": "ipython3",
   "version": "3.9.5"
  }
 },
 "nbformat": 4,
 "nbformat_minor": 5
}
