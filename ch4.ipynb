{
 "cells": [
  {
   "cell_type": "markdown",
   "id": "dbead2e7",
   "metadata": {},
   "source": [
    "[Chapter 4] Optimal Clustering"
   ]
  },
  {
   "cell_type": "code",
   "execution_count": null,
   "id": "883a344a",
   "metadata": {},
   "outputs": [],
   "source": [
    "# a clustering problem consists of a set of objects and a set of features associated with those objects (unsupervised learning)\n",
    "# the goal is to seperate the objects into groups (called clusters) using the features\n",
    "#           where intragroup similarities are maximized and intergroup similarities are minimized\n",
    "\n",
    "# 2 main classes of clustering: partitional (one-level/un-nested) and hierarchical(nested sequence of partitions)\n",
    "# types of clustering algo: connectivity (e.g. hierarchical clustering), centroids (e.g. k-means), distribution,\n",
    "#                      density (e.g. DBSCAN, OPTICS), subspace (on 2-dimensions both features and observations, e.g. bi/co-clustering) \n",
    "\n",
    "import numpy as np\n",
    "import pandas as pd\n",
    "\n",
    "from sklearn.cluster import KMeans\n",
    "from sklearn.metrics import silhouette_samples"
   ]
  },
  {
   "cell_type": "markdown",
   "id": "f6ec2116",
   "metadata": {},
   "source": [
    "base clustering"
   ]
  },
  {
   "cell_type": "code",
   "execution_count": 7,
   "id": "1aca6583",
   "metadata": {},
   "outputs": [],
   "source": [
    "def clusterKMeansBase(corr0, maxNumClusters=10, n_init=10):\n",
    "    \"\"\"\n",
    "    use k-means algorithm on observation matrix\n",
    "    \"\"\"\n",
    "    # derive observation matrix x as distance matrix\n",
    "    x = ((1-corr0.fillna(0))/2.)**.5    # corr=1, x=0; corr=-1, x=1\n",
    "    silh = pd.Series()\n",
    "    \n",
    "    for init in range(n_init):  # k-means uses multiple random initialization to avoid local optimas\n",
    "        for i in range(2, maxNumClusters+1): # loop different number of maxNumClusters\n",
    "            \n",
    "            # k-means clustering\n",
    "            kmeans_ = KMeans(n_clusters=i, n_jobs=1, n_init=1)  # only initialization once for inner loop\n",
    "            kmeans_ = kmeans_.fit(x)\n",
    "\n",
    "            #  calculate silhouette coef in measuring comparing intracluster distance and intercluster distance\n",
    "            #       Si = (b_i-a_i)/max{a_i, b_i} \n",
    "            #       - a_i is the avg distance between i and all other elements in the same cluster\n",
    "            #       - b_i is the avg distance between i and all the elements in the nearest cluster which i is not a member \n",
    "            #       - Si = 1 means i was clustered well and -1 means i was clustered poorly\n",
    "            silh_ = silhouette_samples(x, kmeans_.labels_)\n",
    "            \n",
    "            # clustering quality q = mean(silh)/std(silh)\n",
    "            # comparing current q_ vs historical optimal q\n",
    "            stat = (silh_.mean()/silh_.std(), silh.mean()/silh.std())\n",
    "            if np.isnan(stat[1]) or stat[0]>stat[1]:    \n",
    "                silh, kmeans=silh_, kmeans_     # select clustering with the highest q\n",
    "\n",
    "    # reorder correlation matrix based on kmeans clustering\n",
    "    newIdx = np.argsort(kmeans.labels_)\n",
    "    corr1 = corr0.iloc[newIdx] # reorder rows\n",
    "    corr1 = corr1.iloc[:, newIdx] # reorder columns\n",
    "\n",
    "    # extract/output clustering info\n",
    "    clstrs = {i:corr0.columns[np.where(kmeans.labels_==i)[0]].tolist() \\\n",
    "              for i in np.unique(kmeans.labels_)}   # cluster members\n",
    "    \n",
    "    silh = pd.Series(silh, index=x.index)\n",
    "    \n",
    "    return corr1, clstrs, silh"
   ]
  },
  {
   "cell_type": "markdown",
   "id": "4b33227a",
   "metadata": {},
   "source": [
    "higher-level clustering"
   ]
  },
  {
   "cell_type": "code",
   "execution_count": null,
   "id": "10e1371d",
   "metadata": {},
   "outputs": [],
   "source": []
  }
 ],
 "metadata": {
  "kernelspec": {
   "display_name": "Python 3",
   "language": "python",
   "name": "python3"
  },
  "language_info": {
   "codemirror_mode": {
    "name": "ipython",
    "version": 3
   },
   "file_extension": ".py",
   "mimetype": "text/x-python",
   "name": "python",
   "nbconvert_exporter": "python",
   "pygments_lexer": "ipython3",
   "version": "3.9.5"
  }
 },
 "nbformat": 4,
 "nbformat_minor": 5
}
