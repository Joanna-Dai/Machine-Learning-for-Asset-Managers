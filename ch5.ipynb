{
 "cells": [
  {
   "cell_type": "markdown",
   "id": "719d8ffc",
   "metadata": {},
   "source": [
    "[Chapter 5] Financial Labels"
   ]
  },
  {
   "cell_type": "code",
   "execution_count": 3,
   "id": "7b088c2c",
   "metadata": {},
   "outputs": [],
   "source": [
    "import numpy as np\n",
    "\n",
    "import statsmodels.api as sml"
   ]
  },
  {
   "cell_type": "markdown",
   "id": "dd0e693f",
   "metadata": {},
   "source": [
    "T-Value of a Linear Trend"
   ]
  },
  {
   "cell_type": "code",
   "execution_count": 7,
   "id": "d18ce2af",
   "metadata": {},
   "outputs": [],
   "source": [
    "def tValLinR(close):\n",
    "    \"\"\"\n",
    "    tValue from a linear trend\n",
    "    x_{t+l} = b0 + b1*l + e_{t+l}\n",
    "    tstat_b1 = b1 / sigma(b1)\n",
    "    l = 0, ..., L (L sets the look-forward period)  \n",
    "    \"\"\"\n",
    "    # create an array filled with ones, having the same number of rows as close and 2 columns. \n",
    "    # This array will represent the independent variables for the linear regression.(the first column of ones respresent intercept) \n",
    "    x = np.ones((close.shape[0], 2))\n",
    "    \n",
    "    # generate a sequence of numbers representing the time index or independent variable for the linear trend. \n",
    "    # For each data point in close, there's a corresponding sequential number representing its position in the series.\n",
    "    x[:, 1] = np.arange(close.shape[0])\n",
    "\n",
    "    # estimate the relationship between a dependent variable (close) and independent variables (x) \n",
    "    # by minimizing the sum of the squared differences between the observed and predicted values\n",
    "    ols = sml.OLS(close, x).fit()\n",
    "\n",
    "    # return the t-value corresponding to the slope coefficient\n",
    "    return ols.tvalues[1]"
   ]
  },
  {
   "cell_type": "code",
   "execution_count": null,
   "id": "6124aaa8",
   "metadata": {},
   "outputs": [
    {
     "data": {
      "text/plain": [
       "array([0, 1, 2, 3, 4, 5, 6, 7, 8, 9])"
      ]
     },
     "execution_count": 6,
     "metadata": {},
     "output_type": "execute_result"
    }
   ],
   "source": []
  },
  {
   "cell_type": "code",
   "execution_count": null,
   "id": "c9fb0edb",
   "metadata": {},
   "outputs": [],
   "source": []
  }
 ],
 "metadata": {
  "kernelspec": {
   "display_name": "Python 3",
   "language": "python",
   "name": "python3"
  },
  "language_info": {
   "codemirror_mode": {
    "name": "ipython",
    "version": 3
   },
   "file_extension": ".py",
   "mimetype": "text/x-python",
   "name": "python",
   "nbconvert_exporter": "python",
   "pygments_lexer": "ipython3",
   "version": "3.9.5"
  }
 },
 "nbformat": 4,
 "nbformat_minor": 5
}
