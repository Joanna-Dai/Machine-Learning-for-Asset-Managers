{
 "cells": [
  {
   "cell_type": "markdown",
   "id": "0175deb8",
   "metadata": {},
   "source": [
    "[Chapter 8] Testing Set Overfitting"
   ]
  },
  {
   "cell_type": "code",
   "execution_count": null,
   "id": "c0dd0696",
   "metadata": {},
   "outputs": [],
   "source": []
  }
 ],
 "metadata": {
  "language_info": {
   "name": "python"
  }
 },
 "nbformat": 4,
 "nbformat_minor": 5
}
