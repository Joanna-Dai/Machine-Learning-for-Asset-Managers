{
 "cells": [
  {
   "cell_type": "markdown",
   "id": "fad609da",
   "metadata": {},
   "source": [
    "[Chapter 6] Feature Importance Analysis"
   ]
  },
  {
   "cell_type": "code",
   "execution_count": 4,
   "id": "0b4a9c47",
   "metadata": {},
   "outputs": [],
   "source": [
    "import numpy as np\n",
    "import pandas as pd\n",
    "\n",
    "from sklearn.datasets import make_classification\n",
    "import statsmodels.discrete.discrete_model as sm\n",
    "\n",
    "import seaborn as sns"
   ]
  },
  {
   "cell_type": "markdown",
   "id": "52e064fb",
   "metadata": {},
   "source": [
    "motivation - a numerical example"
   ]
  },
  {
   "cell_type": "code",
   "execution_count": 6,
   "id": "e8b24fc6",
   "metadata": {},
   "outputs": [
    {
     "name": "stdout",
     "output_type": "stream",
     "text": [
      "Optimization terminated successfully.\n",
      "         Current function value: 0.380271\n",
      "         Iterations 7\n"
     ]
    }
   ],
   "source": [
    "def getTestData(n_features=100, n_informative=25, n_redundant=25, n_samples=10000, random_state=0, sigmaStd=.0):\n",
    "    \"\"\"\n",
    "    generate a random dataset of informed, redundant, and noise explanatory variables for a classification problem\n",
    "    \"\"\"\n",
    "    np.random.seed(random_state)\n",
    "\n",
    "    X, y = make_classification(n_samples=n_samples, n_features=n_features-n_redundant,\n",
    "        n_informative=n_informative, n_redundant=0, shuffle=False, random_state=random_state)\n",
    "    \n",
    "    # I_: informative features (used to generate labels)\n",
    "    cols = ['I_'+str(i) for i in range(n_informative)]\n",
    "    \n",
    "    # N_: noise features (that are not used to generate labels)\n",
    "    cols += ['N_'+str(i) for i in range(n_features-n_informative-n_redundant)]\n",
    "\n",
    "    # R_: redundant features\n",
    "    # formed by adding Gaussian noise to a randomly chosen informative feature\n",
    "    X, y = pd.DataFrame(X, columns=cols), pd.Series(y)\n",
    "    # randomly choosen informative feature\n",
    "    i = np.random.choice(range(n_informative), size=n_redundant)\n",
    "    # the lower the sigmaStd, the greater the substitution effect (cannot discriminate among redundant variables)\n",
    "    for k, j in enumerate(i):\n",
    "        X['R_'+str(k)] = X['I_'+str(j)] + np.random.normal(size=X.shape[0])*sigmaStd \n",
    "    \n",
    "    return X, y\n",
    "\n",
    "X, y = getTestData(40, 5, 30, 10000, sigmaStd=0.1)\n",
    "ols = sm.Logit(y, X).fit()"
   ]
  },
  {
   "cell_type": "code",
   "execution_count": null,
   "id": "7317119c",
   "metadata": {},
   "outputs": [],
   "source": []
  }
 ],
 "metadata": {
  "kernelspec": {
   "display_name": "Python 3",
   "language": "python",
   "name": "python3"
  },
  "language_info": {
   "codemirror_mode": {
    "name": "ipython",
    "version": 3
   },
   "file_extension": ".py",
   "mimetype": "text/x-python",
   "name": "python",
   "nbconvert_exporter": "python",
   "pygments_lexer": "ipython3",
   "version": "3.9.5"
  }
 },
 "nbformat": 4,
 "nbformat_minor": 5
}
